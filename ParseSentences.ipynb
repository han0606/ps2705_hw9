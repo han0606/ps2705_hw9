{
 "cells": [
  {
   "cell_type": "code",
   "execution_count": 39,
   "metadata": {},
   "outputs": [],
   "source": [
    "filePath = '995.txt'\n",
    "\n",
    "with open(filePath, \"r\") as f: \n",
    "    line = f.readline()\n",
    "    count = 1\n",
    "    while line:\n",
    "        print(\"Line {}: {}\".format(count, line.strip()))\n",
    "        line = f.readline()\n",
    "        count += 1"
   ]
  },
  {
   "cell_type": "code",
   "execution_count": 53,
   "metadata": {},
   "outputs": [
    {
     "name": "stdout",
     "output_type": "stream",
     "text": [
      "None\n"
     ]
    }
   ],
   "source": [
    "import yaml\n",
    "\n",
    "class Sentence:\n",
    "    \n",
    "    with open(filePath, \"r\") as f: \n",
    "        line = f.readline()\n",
    "        while line:\n",
    "            line = f.readline()\n",
    "            count += 1\n",
    "    \n",
    "    def __init__(self, input_text):\n",
    "        self.text = input_text\n",
    "        self.sentence_string = str(self.text)\n",
    "        self.document = str(filePath)\n",
    "        self.line_number = count\n",
    "        \n",
    "    def __repr__(self):\n",
    "        return f\"Sentence(Sentence = {self.count}, Document = {self.document}, Line Number = {self.line_number}, Character Count = {self.character_length}, Word Count = {self.word_length})\"\n",
    "    \n",
    "    def count_characters(self):\n",
    "        self.character_length = len(self.text)\n",
    "    \n",
    "    def count_words(self):\n",
    "        self.word_length = len(self.text.split())\n",
    "    \n",
    "    def read(self):\n",
    "        print(self.sentence_string)\n",
    "\n",
    "    def write(self, file):\n",
    "        with open(file, \"a\") as f:\n",
    "            f.write(\"--- \")\n",
    "            yaml.dump(self, f)\n",
    "\n",
    "example = \"Hi, this is Jungmin\"\n",
    "text_obj = Sentence(\"Hi, this is Jungmin\");\n",
    "print(text_obj.count_characters())"
   ]
  },
  {
   "cell_type": "code",
   "execution_count": 52,
   "metadata": {},
   "outputs": [],
   "source": [
    "if __name__ == \"__main__\":\n",
    "    Sentence.write(\"output.yaml\", filePath)"
   ]
  },
  {
   "cell_type": "code",
   "execution_count": null,
   "metadata": {},
   "outputs": [],
   "source": []
  }
 ],
 "metadata": {
  "kernelspec": {
   "display_name": "Python 3",
   "language": "python",
   "name": "python3"
  },
  "language_info": {
   "codemirror_mode": {
    "name": "ipython",
    "version": 3
   },
   "file_extension": ".py",
   "mimetype": "text/x-python",
   "name": "python",
   "nbconvert_exporter": "python",
   "pygments_lexer": "ipython3",
   "version": "3.8.2"
  }
 },
 "nbformat": 4,
 "nbformat_minor": 4
}
